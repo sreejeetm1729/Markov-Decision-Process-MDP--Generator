{
 "cells": [
  {
   "cell_type": "code",
   "execution_count": 1,
   "id": "7b28fe0d-5dad-4a11-8cf4-134328fd407a",
   "metadata": {},
   "outputs": [
    {
     "name": "stdin",
     "output_type": "stream",
     "text": [
      "Enter the number of states:  3\n",
      "Enter the number of actions:  2\n",
      "Do you want to provide a transition probability matrix? (yes/no):  no\n"
     ]
    },
    {
     "name": "stdout",
     "output_type": "stream",
     "text": [
      "Random transition probabilities will be generated.\n"
     ]
    },
    {
     "name": "stdin",
     "output_type": "stream",
     "text": [
      "Do you want to provide a reward matrix? (yes/no):  no\n"
     ]
    },
    {
     "name": "stdout",
     "output_type": "stream",
     "text": [
      "TikZ code has been saved to 'mdp_tikz.tex'. You can now use this file in your LaTeX document.\n"
     ]
    }
   ],
   "source": [
    "import numpy as np\n",
    "\n",
    "# Define the MDP class\n",
    "class MDP:\n",
    "    def __init__(self, num_states, num_actions, transition_probabilities=None, reward=None):\n",
    "        self.num_states = num_states\n",
    "        self.num_actions = num_actions\n",
    "        \n",
    "        if transition_probabilities is None:\n",
    "            # Randomly generate transition probabilities if not provided\n",
    "            self.transition_probabilities = np.random.rand(num_states, num_actions, num_states)\n",
    "            self.transition_probabilities /= self.transition_probabilities.sum(axis=2, keepdims=True)\n",
    "        else:\n",
    "            self.transition_probabilities = transition_probabilities\n",
    "            \n",
    "        if reward is None:\n",
    "            self.rewards = np.random.rand(num_states, num_actions)\n",
    "        else:\n",
    "            self.rewards = reward\n",
    "        \n",
    "    def convert_to_tikz(self):\n",
    "        tikz_str = \"\\\\begin{tikzpicture}[->, >=stealth', auto, thick, node distance=2.8cm]\\n\"\n",
    "        tikz_str += \"\\t\\\\tikzstyle{every state}=[fill=white,draw=black,thick,text=black,scale=1]\\n\"\n",
    "        \n",
    "        # Define nodes for each state\n",
    "        for s in range(self.num_states):\n",
    "            tikz_str += f\"\\t\\\\node[state]    (S{s}) at ({s*3},0) {{$s_{s}$}};\\n\"\n",
    "        \n",
    "        # Define edges for each transition\n",
    "        for s in range(self.num_states):\n",
    "            for a in range(self.num_actions):\n",
    "                for s_prime in range(self.num_states):\n",
    "                    prob = self.transition_probabilities[s, a, s_prime]\n",
    "                    if prob > 0.05:  # Only include significant transitions\n",
    "                        action_label = f\"$a_{{{a}}}$\"\n",
    "                        reward_label = f\"R={self.rewards[s, a]:.2f}\"\n",
    "                        tikz_str += f\"\\t\\\\path (S{s}) edge [bend left] node {{{action_label}, P={prob:.2f}, {reward_label}}} (S{s_prime});\\n\"\n",
    "\n",
    "        tikz_str += \"\\\\end{tikzpicture}\"\n",
    "        return tikz_str\n",
    "\n",
    "# Get user inputs\n",
    "num_states = int(input(\"Enter the number of states: \"))\n",
    "num_actions = int(input(\"Enter the number of actions: \"))\n",
    "\n",
    "# Get user input for transition probabilities\n",
    "user_input_transition = input(\"Do you want to provide a transition probability matrix? (yes/no): \").strip().lower()\n",
    "transition_probabilities = None\n",
    "\n",
    "if user_input_transition == \"yes\":\n",
    "    transition_probabilities = np.zeros((num_states, num_actions, num_states))\n",
    "    for s in range(num_states):\n",
    "        for a in range(num_actions):\n",
    "            print(f\"Enter transition probabilities for state {s}, action {a}:\")\n",
    "            for s_prime in range(num_states):\n",
    "                transition_probabilities[s, a, s_prime] = float(input(f\"P(s'={s_prime} | s={s}, a={a}): \"))\n",
    "            # Normalize the probabilities\n",
    "            transition_probabilities[s, a] /= transition_probabilities[s, a].sum()\n",
    "else:\n",
    "    print(\"Random transition probabilities will be generated.\")\n",
    "\n",
    "# Optionally allow user to input rewards\n",
    "user_input_reward = input(\"Do you want to provide a reward matrix? (yes/no): \").strip().lower()\n",
    "reward = None\n",
    "if user_input_reward == \"yes\":\n",
    "    reward = np.zeros((num_states, num_actions))\n",
    "    for s in range(num_states):\n",
    "        for a in range(num_actions):\n",
    "            reward[s, a] = float(input(f\"Enter the reward for state {s}, action {a}: \"))\n",
    "\n",
    "# Create the MDP\n",
    "mdp = MDP(num_states, num_actions, transition_probabilities, reward)\n",
    "\n",
    "# Convert to TikZ code\n",
    "tikz_code = mdp.convert_to_tikz()\n",
    "\n",
    "# Save the TikZ code to a file\n",
    "with open(\"mdp_tikz.tex\", \"w\") as f:\n",
    "    f.write(tikz_code)\n",
    "\n",
    "print(\"TikZ code has been saved to 'mdp_tikz.tex'. You can now use this file in your LaTeX document.\")\n"
   ]
  },
  {
   "cell_type": "code",
   "execution_count": null,
   "id": "7fb7fa9b-6e94-4cd3-800d-a58b3d7bd59e",
   "metadata": {},
   "outputs": [],
   "source": []
  }
 ],
 "metadata": {
  "kernelspec": {
   "display_name": "Python 3 (ipykernel)",
   "language": "python",
   "name": "python3"
  },
  "language_info": {
   "codemirror_mode": {
    "name": "ipython",
    "version": 3
   },
   "file_extension": ".py",
   "mimetype": "text/x-python",
   "name": "python",
   "nbconvert_exporter": "python",
   "pygments_lexer": "ipython3",
   "version": "3.11.7"
  }
 },
 "nbformat": 4,
 "nbformat_minor": 5
}
